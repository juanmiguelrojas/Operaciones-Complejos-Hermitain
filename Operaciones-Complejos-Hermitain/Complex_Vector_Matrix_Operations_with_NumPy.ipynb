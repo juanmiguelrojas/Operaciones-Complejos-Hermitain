{
 "cells": [
  {
   "cell_type": "markdown",
   "id": "a07bd584",
   "metadata": {},
   "source": [
    "# Theory of Complex Vector Spaces\n",
    "Complex vector spaces extend the idea of real vector spaces by allowing vectors to have complex numbers as their components. In these spaces, vectors can be added together and multiplied by complex scalars to produce new vectors. Key operations in complex vector spaces include vector addition, scalar multiplication, vector negation, and complex conjugation."
   ]
  },
  {
   "cell_type": "markdown",
   "id": "f43fc972-23ab-4d81-aa26-c51325dac8f3",
   "metadata": {},
   "source": [
    "# Creating complex column vectors"
   ]
  },
  {
   "cell_type": "code",
   "execution_count": 1,
   "id": "029f08ba-1cdc-4928-9631-f62c51ab7aa5",
   "metadata": {},
   "outputs": [
    {
     "name": "stdout",
     "output_type": "stream",
     "text": [
      "Matrix:\n",
      " [[2 3]\n",
      " [1 4]]\n",
      "\n",
      "Vector:\n",
      " [5 6]\n",
      "\n",
      "Result of multiplication:\n",
      " [28 29]\n"
     ]
    }
   ],
   "source": [
    "import numpy as np\n",
    "\n",
    "# Define a 2x2 square matrix\n",
    "matrix = np.array([[2, 3],\n",
    "                   [1, 4]])\n",
    "\n",
    "# Define a vector of size 2\n",
    "vector = np.array([5, 6])\n",
    "\n",
    "# Multiply the matrix by the vector\n",
    "result = np.dot(matrix, vector)\n",
    "\n",
    "# Display the result\n",
    "print(\"Matrix:\\n\", matrix)\n",
    "print(\"\\nVector:\\n\", vector)\n",
    "print(\"\\nResult of multiplication:\\n\", result)\n"
   ]
  },
  {
   "cell_type": "markdown",
   "id": "975c2284",
   "metadata": {},
   "source": [
    "## Manipulating Complex Column Vectors using NumPy\n",
    "Here we demonstrate how to manipulate complex column vectors using NumPy, including operations like sum, negation, multiplication by a scalar, transpose, adjunct, and conjugate."
   ]
  },
  {
   "cell_type": "code",
   "execution_count": 2,
   "id": "e8058abe",
   "metadata": {},
   "outputs": [
    {
     "data": {
      "text/plain": [
       "(array([[3.+2.j],\n",
       "        [8.-2.j],\n",
       "        [5.-3.j]]),\n",
       " array([[-2.-3.j],\n",
       "        [-5.+4.j],\n",
       "        [-1.-1.j]]),\n",
       " array([[ 1.+8.j],\n",
       "        [14.-3.j],\n",
       "        [ 1.+3.j]]),\n",
       " array([[2.+3.j, 5.-4.j, 1.+1.j]]),\n",
       " array([[2.-3.j, 5.+4.j, 1.-1.j]]),\n",
       " array([[2.-3.j],\n",
       "        [5.+4.j],\n",
       "        [1.-1.j]]))"
      ]
     },
     "execution_count": 2,
     "metadata": {},
     "output_type": "execute_result"
    }
   ],
   "source": [
    "\n",
    "import numpy as np\n",
    "\n",
    "# Define two complex column vectors\n",
    "v1 = np.array([[2+3j], [5-4j], [1+1j]])\n",
    "v2 = np.array([[1-1j], [3+2j], [4-4j]])\n",
    "\n",
    "# Sum\n",
    "sum_v = v1 + v2\n",
    "\n",
    "# Negation\n",
    "neg_v1 = -v1\n",
    "\n",
    "# Multiplication by a scalar\n",
    "scalar = 2 + 1j\n",
    "mult_v1 = v1 * scalar\n",
    "\n",
    "# Transpose\n",
    "transpose_v1 = v1.T\n",
    "\n",
    "# Adjunct (Conjugate transpose)\n",
    "adjunct_v1 = v1.T.conj()\n",
    "\n",
    "# Conjugate\n",
    "conjugate_v1 = np.conjugate(v1)\n",
    "\n",
    "(sum_v, neg_v1, mult_v1, transpose_v1, adjunct_v1, conjugate_v1)\n"
   ]
  },
  {
   "cell_type": "markdown",
   "id": "995ae5fc",
   "metadata": {},
   "source": [
    "# Theory of Vector Spaces using Matrices\n",
    "In the context of matrices, vector spaces can be defined where each vector is a matrix of a particular size. Operations on these matrix-vector spaces include matrix addition, scalar multiplication, matrix negation, transpose, adjunct, and conjugate. In this section, we focus on square matrices of size 3x3."
   ]
  },
  {
   "cell_type": "markdown",
   "id": "9385c1f0",
   "metadata": {},
   "source": [
    "## Manipulating Square Matrices using NumPy\n",
    "Examples of how to manipulate 3x3 square matrices using NumPy, showing operations such as sum, negation, multiplication by a scalar, conjugate, transpose, and adjunct."
   ]
  },
  {
   "cell_type": "code",
   "execution_count": 3,
   "id": "b81ecc57",
   "metadata": {},
   "outputs": [
    {
     "data": {
      "text/plain": [
       "(array([[3.+3.j, 6.+0.j, 3.-3.j],\n",
       "        [1.+1.j, 2.+5.j, 6.-2.j],\n",
       "        [7.+3.j, 8.-2.j, 5.+3.j]]),\n",
       " array([[-2.-3.j, -4.+1.j, -0.-0.j],\n",
       "        [-1.-1.j, -3.-3.j, -5.-0.j],\n",
       "        [-4.-0.j, -6.+2.j, -1.+1.j]]),\n",
       " array([[-0.5+2.5j,  2.5+1.5j,  0. +0.j ],\n",
       "        [ 0. +1.j ,  0. +3.j ,  2.5+2.5j],\n",
       "        [ 2. +2.j ,  4. +2.j ,  1. +0.j ]]),\n",
       " array([[2.-3.j, 4.+1.j, 0.-0.j],\n",
       "        [1.-1.j, 3.-3.j, 5.-0.j],\n",
       "        [4.-0.j, 6.+2.j, 1.+1.j]]),\n",
       " array([[2.+3.j, 1.+1.j, 4.+0.j],\n",
       "        [4.-1.j, 3.+3.j, 6.-2.j],\n",
       "        [0.+0.j, 5.+0.j, 1.-1.j]]),\n",
       " array([[2.-3.j, 1.-1.j, 4.-0.j],\n",
       "        [4.+1.j, 3.-3.j, 6.+2.j],\n",
       "        [0.-0.j, 5.-0.j, 1.+1.j]]))"
      ]
     },
     "execution_count": 3,
     "metadata": {},
     "output_type": "execute_result"
    }
   ],
   "source": [
    "\n",
    "# Define two 3x3 complex matrices\n",
    "m1 = np.array([[2+3j, 4-1j, 0], \n",
    "               [1+1j, 3+3j, 5], \n",
    "               [4, 6-2j, 1-1j]])\n",
    "m2 = np.array([[1, 2+1j, 3-3j], \n",
    "               [0, -1+2j, 1-2j], \n",
    "               [3+3j, 2, 4+4j]])\n",
    "\n",
    "# Sum\n",
    "sum_m = m1 + m2\n",
    "\n",
    "# Negation\n",
    "neg_m1 = -m1\n",
    "\n",
    "# Multiplication by a scalar\n",
    "scalar = 0.5 + 0.5j\n",
    "mult_m1 = m1 * scalar\n",
    "\n",
    "# Conjugate\n",
    "conjugate_m1 = np.conjugate(m1)\n",
    "\n",
    "# Transpose\n",
    "transpose_m1 = m1.T\n",
    "\n",
    "# Adjunct (Conjugate transpose)\n",
    "adjunct_m1 = m1.T.conj()\n",
    "\n",
    "(sum_m, neg_m1, mult_m1, conjugate_m1, transpose_m1, adjunct_m1)\n"
   ]
  },
  {
   "cell_type": "markdown",
   "id": "ed909545-8a5c-4cca-85f7-48688b597598",
   "metadata": {},
   "source": [
    "## Checking the Dimension of a Matrix\n",
    "We can check the dimension of a matrix using the `.shape` attribute."
   ]
  },
  {
   "cell_type": "code",
   "execution_count": 5,
   "id": "0930dc10-af6d-427f-bbcb-75bfaf051db5",
   "metadata": {},
   "outputs": [
    {
     "data": {
      "text/plain": [
       "(3, 3)"
      ]
     },
     "execution_count": 5,
     "metadata": {},
     "output_type": "execute_result"
    }
   ],
   "source": [
    "# Checking the dimension of matrix1\n",
    "m1.shape"
   ]
  },
  {
   "cell_type": "markdown",
   "id": "b3fe896b",
   "metadata": {},
   "source": [
    "## Action of a Matrix on a Vector\n",
    "Finally, examples of how to use Python to multiply a 3x3 square matrix by a 3x1 column vector."
   ]
  },
  {
   "cell_type": "code",
   "execution_count": 6,
   "id": "e514d047",
   "metadata": {},
   "outputs": [
    {
     "data": {
      "text/plain": [
       "array([[11. -9.j],\n",
       "       [31.+13.j],\n",
       "       [32.-22.j]])"
      ]
     },
     "execution_count": 6,
     "metadata": {},
     "output_type": "execute_result"
    }
   ],
   "source": [
    "\n",
    "# Multiplying a 3x3 matrix by a 3x1 vector\n",
    "result = np.dot(m1, v1)\n",
    "result\n"
   ]
  },
  {
   "cell_type": "markdown",
   "id": "5adf9d8a-af43-4074-ab1a-3cabdc4accff",
   "metadata": {},
   "source": [
    "# Exercises on Complex Vectors and Matrices with Concrete Cases\n",
    "\n",
    "This set of exercises focuses on operations with complex column vectors and complex square matrices, including concrete cases with vectors and matrices written in LaTeX format.\n",
    "\n",
    "## Complex Column Vector Operations\n",
    "\n",
    "### Exercise 1: Sum of Two Complex Vectors\n",
    "Given two complex vectors \n",
    "$ v1 = \\begin{bmatrix} 1 + 2i \\\\ 3 - i \\end{bmatrix} $ \n",
    "and \n",
    "$ v2 = \\begin{bmatrix} 2 - i \\\\ 4 + 2i \\end{bmatrix} $, \n",
    "find their sum.\n",
    "\n",
    "\n",
    "### Exercise 2: Negation of a Complex Vector\n",
    "Given a complex vector \n",
    "$ v = \\begin{bmatrix} 2 + 3i \\\\ 1 - 2i \\end{bmatrix} $, \n",
    "find its negation.\n",
    "\n",
    "### Exercise 3: Multiplication of a Complex Vector by a Scalar\n",
    "Multiply the complex vector \n",
    "$ v = \\begin{bmatrix} 1 - i \\\\ 2 + 2i \\end{bmatrix} $ \n",
    "by the complex scalar $$ 3 + i $$.\n",
    "\n",
    "### Exercise 4: Transpose of a Complex Vector\n",
    "Find the transpose of the complex vector \n",
    "$ v = \\begin{bmatrix} 2 - i \\\\ 3 + 4i \\end{bmatrix} $.\n",
    "\n",
    "### Exercise 5: Conjugate of a Complex Vector\n",
    "Compute the conjugate of the complex vector \n",
    "$ v = \\begin{bmatrix} 1 + i \\\\ 2 - 3i \\end{bmatrix} $.\n",
    "\n",
    "### Exercise 6: Adjunct (Conjugate Transpose) of a Complex Vector\n",
    "Find the adjunct (or conjugate transpose) of the complex vector \n",
    "$ v = \\begin{bmatrix} 1 - 2i \\\\ 3 + i \\end{bmatrix} $.\n",
    "\n",
    "## Complex Square Matrix Operations\n",
    "\n",
    "### Exercise 7: Sum of Two Complex Matrices\n",
    "Given two complex matrices \n",
    "$ m1 = \\begin{bmatrix} 1 + i & 2 - i \\\\ 3 + 2i & 4 \\end{bmatrix} $\n",
    "and \n",
    "$ m2 = \\begin{bmatrix} 2 - 3i & 1 \\\\ i & 2 + 2i \\end{bmatrix} $, \n",
    "calculate their sum.\n",
    "\n",
    "### Exercise 8: Negation of a Complex Matrix\n",
    "Find the negation of the complex matrix \n",
    "$ m = \\begin{bmatrix} 2 + i & 3 \\\\ 1 - i & 2 + 2i \\end{bmatrix} $.\n",
    "\n",
    "### Exercise 9: Multiplication of a Complex Matrix by a Scalar\n",
    "Multiply the complex matrix \n",
    "$ m = \\begin{bmatrix} 1 - i & 2 \\\\ 3 + i & 4 - 2i \\end{bmatrix} $ \n",
    "by the complex scalar $$ 2 + 3i $$.\n",
    "\n",
    "### Exercise 10: Conjugate of a Complex Matrix\n",
    "Compute the conjugate of the complex matrix \n",
    "$ m = \\begin{bmatrix} 1 + i & 2 \\\\ 3 - i & 4 + 2i \\end{bmatrix} $.\n",
    "\n",
    "### Exercise 11: Transpose of a Complex Matrix\n",
    "Find the transpose of the complex matrix \n",
    "$ m = \\begin{bmatrix} 1 - i & 2 + 2i \\\\ 3 & 4 - i \\end{bmatrix} $.\n",
    "\n",
    "### Exercise 12: Adjunct (Conjugate Transpose) of a Complex Matrix\n",
    "Calculate the adjunct (or conjugate transpose) of the complex matrix \n",
    "$ m = \\begin{bmatrix} 1 + 2i & 3 - i \\\\ 4 & 5 + i \\end{bmatrix} $.\n",
    "\n",
    "### Exercise 13: Checking the Dimensions of a Matrix\n",
    "Determine the dimensions of the complex matrix \n",
    "$ m = \\begin{bmatrix} 1 - i & 2 \\\\ 3 + 2i & 4 - i \\end{bmatrix} $.\n",
    "\n",
    "## Multiplication of Matrices and Vectors\n",
    "\n",
    "### Exercise 14: Multiplying a Complex Square Matrix by a Complex Column Vector\n",
    "Multiply the complex square matrix \n",
    "$ m = \\begin{bmatrix} 1 + i & 2 - i \\\\ 3 & 4 + i \\end{bmatrix} $ \n",
    "by the complex column vector \n",
    "$ v = \\begin{bmatrix} 2 - i \\\\ 1 + 3i \\end{bmatrix} $.\n",
    "\n",
    "## Instructions\n",
    "For each exercise, ensure to display both the input (vectors/matrices) and the result of the operation.Use NumPy for these exercises to practice handling complex numbers and matrix operations in Python.\n"
   ]
  },
  {
   "cell_type": "markdown",
   "id": "849b1fe5",
   "metadata": {},
   "source": [
    "## Complex Column Vector Operations\n",
    "\n",
    "### Exercise 1: Sum of Two Complex Vectors\n",
    "Given two complex vectors \n",
    "$ v1 = \\begin{bmatrix} 1 + 2i \\\\ 3 - i \\end{bmatrix} $ \n",
    "and \n",
    "$ v2 = \\begin{bmatrix} 2 - i \\\\ 4 + 2i \\end{bmatrix} $, \n",
    "find their sum."
   ]
  },
  {
   "cell_type": "code",
   "execution_count": 14,
   "id": "07c8d171",
   "metadata": {},
   "outputs": [
    {
     "name": "stdout",
     "output_type": "stream",
     "text": [
      "[[3.+1.j]\n",
      " [7.+1.j]]\n"
     ]
    }
   ],
   "source": [
    "vr1 = np.array([[1+2j], [3-1j]])\n",
    "vr2 = np.array([[2-1j], [4+2j]])\n",
    "sum = vr1 + vr2\n",
    "print(sum)"
   ]
  },
  {
   "cell_type": "markdown",
   "id": "c7cd558f",
   "metadata": {},
   "source": [
    "## Resultado\n",
    "$ vres = \\begin{bmatrix} 3 + i \\\\ 7 + i \\end{bmatrix} $, \n",
    "\n",
    "### Exercise 2: Negation of a Complex Vector\n",
    "Given a complex vector \n",
    "$ v = \\begin{bmatrix} 2 + 3i \\\\ 1 - 2i \\end{bmatrix} $, \n",
    "find its negation."
   ]
  },
  {
   "cell_type": "code",
   "execution_count": 13,
   "id": "4e7eaba7",
   "metadata": {},
   "outputs": [
    {
     "name": "stdout",
     "output_type": "stream",
     "text": [
      "[[-2.-3.j]\n",
      " [-1.+2.j]]\n"
     ]
    }
   ],
   "source": [
    "m2 = np.array([[2+3j], \n",
    "               [1-2j]])\n",
    "neg_m2 = -m2\n",
    "print(neg_m2)"
   ]
  },
  {
   "cell_type": "markdown",
   "id": "c0193426",
   "metadata": {},
   "source": [
    "## Resultado\n",
    "\n",
    "$ v = \\begin{bmatrix} -2 - 3i \\\\ -1 + 2i \\end{bmatrix} $,\n",
    "\n",
    "### Exercise 3: Multiplication of a Complex Vector by a Scalar\n",
    "Multiply the complex vector \n",
    "$ v = \\begin{bmatrix} 1 - i \\\\ 2 + 2i \\end{bmatrix} $ \n",
    "by the complex scalar $$ 3 + i $$."
   ]
  },
  {
   "cell_type": "code",
   "execution_count": 12,
   "id": "fe95890a",
   "metadata": {},
   "outputs": [
    {
     "name": "stdout",
     "output_type": "stream",
     "text": [
      "[[4.-2.j]\n",
      " [8.-4.j]]\n"
     ]
    }
   ],
   "source": [
    "m1 = np.array([[1-1j], [2-2j]])\n",
    "scalar = 3 + 1j\n",
    "mult_m1 = m1 * scalar\n",
    "print(mult_m1)"
   ]
  },
  {
   "cell_type": "markdown",
   "id": "4a00589d",
   "metadata": {},
   "source": [
    "## Resultado\n",
    "\n",
    "$ v = \\begin{bmatrix} 4 - 2i \\\\ 8 -4i \\end{bmatrix} $ \n",
    "\n",
    "### Exercise 4: Transpose of a Complex Vector\n",
    "Find the transpose of the complex vector \n",
    "$ v = \\begin{bmatrix} 2 - i \\\\ 3 + 4i \\end{bmatrix} $."
   ]
  },
  {
   "cell_type": "code",
   "execution_count": 11,
   "id": "13a30cb6",
   "metadata": {},
   "outputs": [
    {
     "name": "stdout",
     "output_type": "stream",
     "text": [
      "[[2.-1.j 3.+4.j]]\n"
     ]
    }
   ],
   "source": [
    "v1 = np.array([[2 - 1j],[3 + 4j]])\n",
    "transpose_v1 = v1.T\n",
    "print(transpose_v1)"
   ]
  },
  {
   "cell_type": "markdown",
   "id": "c91f6ba6",
   "metadata": {},
   "source": [
    "## Resultado\n",
    "\n",
    "$ v = \\begin{bmatrix} 2 - i \\\\ 3 + 4i \\end{bmatrix} $.\n",
    "\n",
    "### Exercise 5: Conjugate of a Complex Vector\n",
    "Compute the conjugate of the complex vector \n",
    "$ v = \\begin{bmatrix} 1 + i \\\\ 2 - 3i \\end{bmatrix} $."
   ]
  },
  {
   "cell_type": "code",
   "execution_count": 10,
   "id": "9b2ed018",
   "metadata": {},
   "outputs": [
    {
     "name": "stdout",
     "output_type": "stream",
     "text": [
      "[[1.-1.j]\n",
      " [2.+3.j]]\n"
     ]
    }
   ],
   "source": [
    "v1 = np.array([[1 + 1j],[2 - 3j]])\n",
    "conjugate_v1 = np.conjugate(v1)\n",
    "print(conjugate_v1)"
   ]
  },
  {
   "cell_type": "markdown",
   "id": "a584731a",
   "metadata": {},
   "source": [
    "## Resultado\n",
    "\n",
    "$ Conj = \\begin{bmatrix} 1 - i \\\\ 2 + 3i \\end{bmatrix} $.\n",
    "\n",
    "### Exercise 6: Adjunct (Conjugate Transpose) of a Complex Vector\n",
    "Find the adjunct (or conjugate transpose) of the complex vector \n",
    "$ v = \\begin{bmatrix} 1 - 2i \\\\ 3 + i \\end{bmatrix} $."
   ]
  },
  {
   "cell_type": "code",
   "execution_count": 15,
   "id": "195a0b0f",
   "metadata": {},
   "outputs": [
    {
     "name": "stdout",
     "output_type": "stream",
     "text": [
      "[[1.+2.j 3.-1.j]]\n"
     ]
    }
   ],
   "source": [
    "m1 = np.array([[1 -2j],[3 + 1j]])\n",
    "adjun_m1 = m1.T.conj()\n",
    "print(adjun_m1)"
   ]
  },
  {
   "cell_type": "markdown",
   "id": "310ff6dd",
   "metadata": {},
   "source": [
    "## Resultado\n",
    "\n",
    "$ Adj = \\begin{bmatrix} 1 + 2i \\\\ 3 - i \\end{bmatrix} $.\n",
    "\n",
    "## Complex Square Matrix Operations\n",
    "\n",
    "### Exercise 7: Sum of Two Complex Matrices\n",
    "Given two complex matrices \n",
    "$ m1 = \\begin{bmatrix} 1 + i & 2 - i \\\\ 3 + 2i & 4 \\end{bmatrix} $\n",
    "and \n",
    "$ m2 = \\begin{bmatrix} 2 - 3i & 1 \\\\ i & 2 + 2i \\end{bmatrix} $, \n",
    "calculate their sum."
   ]
  },
  {
   "cell_type": "code",
   "execution_count": 16,
   "id": "79632f30",
   "metadata": {},
   "outputs": [
    {
     "name": "stdout",
     "output_type": "stream",
     "text": [
      "[[3.-2.j 3.-1.j]\n",
      " [3.+3.j 4.+4.j]]\n"
     ]
    }
   ],
   "source": [
    "m1 = np.array([[1+1j, 2-1j], \n",
    "               [3+2j, 2+2j]])\n",
    "m2 = np.array([[2 -3J, 1], \n",
    "               [1J, 2+2j]])\n",
    "\n",
    "sum = m1 + m2\n",
    "print(sum)"
   ]
  },
  {
   "cell_type": "markdown",
   "id": "f463e278",
   "metadata": {},
   "source": [
    "## Resultado\n",
    "\n",
    "$ sum = \\begin{bmatrix} 3 -2i & 3 - i \\\\ 3 + 3i & 4 + 4i \\end{bmatrix} $\n",
    "\n",
    "### Exercise 8: Negation of a Complex Matrix\n",
    "Find the negation of the complex matrix \n",
    "$ m = \\begin{bmatrix} 2 + i & 3 \\\\ 1 - i & 2 + 2i \\end{bmatrix} $."
   ]
  },
  {
   "cell_type": "code",
   "execution_count": 18,
   "id": "8e201cc2",
   "metadata": {},
   "outputs": [
    {
     "name": "stdout",
     "output_type": "stream",
     "text": [
      "[[-2.-1.j -3.-0.j]\n",
      " [-1.+1.j -2.-2.j]]\n"
     ]
    }
   ],
   "source": [
    "m1 = np.array([[2 + 1j, 3],[1 - 1j, 2 + 2j]])\n",
    "neg = -m1\n",
    "print(neg)"
   ]
  },
  {
   "cell_type": "markdown",
   "id": "29d48a21",
   "metadata": {},
   "source": [
    "## Resultado\n",
    "\n",
    "$ Neg = \\begin{bmatrix} -2 - i & -3 \\\\ -1 + i & -2 - 2i \\end{bmatrix} $.\n",
    "\n",
    "### Exercise 9: Multiplication of a Complex Matrix by a Scalar\n",
    "Multiply the complex matrix \n",
    "$ m = \\begin{bmatrix} 1 - i & 2 \\\\ 3 + i & 4 - 2i \\end{bmatrix} $ \n",
    "by the complex scalar $$ 2 + 3i $$."
   ]
  },
  {
   "cell_type": "code",
   "execution_count": 19,
   "id": "161460ce",
   "metadata": {},
   "outputs": [
    {
     "name": "stdout",
     "output_type": "stream",
     "text": [
      "[[ 5. +1.j  4. +6.j]\n",
      " [ 3.+11.j 14. +8.j]]\n"
     ]
    }
   ],
   "source": [
    "m1 = np.array([[1 -1j , 2 ],[3 + 1j, 4 - 2j]])\n",
    "scalar = 2 + 3j\n",
    "mult = m1 * scalar\n",
    "print(mult)"
   ]
  },
  {
   "cell_type": "markdown",
   "id": "653832c8",
   "metadata": {},
   "source": [
    "## Resultado\n",
    "\n",
    "$ mult = \\begin{bmatrix} 5 + i & 4 + 6i \\\\ 3 + 11i & 14 + 8i \\end{bmatrix} $ \n",
    "\n",
    "### Exercise 10: Conjugate of a Complex Matrix\n",
    "Compute the conjugate of the complex matrix \n",
    "$ m = \\begin{bmatrix} 1 + i & 2 \\\\ 3 - i & 4 + 2i \\end{bmatrix} $."
   ]
  },
  {
   "cell_type": "code",
   "execution_count": 21,
   "id": "fa197c09",
   "metadata": {},
   "outputs": [
    {
     "name": "stdout",
     "output_type": "stream",
     "text": [
      "[[1.-1.j 2.-0.j]\n",
      " [3.+1.j 4.-2.j]]\n"
     ]
    }
   ],
   "source": [
    "m1 = np.array([[1 + 1j, 2],[3 - 1j , 4 + 2j]])\n",
    "conjugate = np.conjugate(m1)\n",
    "print(conjugate)"
   ]
  },
  {
   "cell_type": "markdown",
   "id": "f90324c8",
   "metadata": {},
   "source": [
    "## Resultado\n",
    "\n",
    "$ Conjugate = \\begin{bmatrix} 1 - i & 2 \\\\ 3 + i & 4 - 2i \\end{bmatrix} $.\n",
    "\n",
    "### Exercise 11: Transpose of a Complex Matrix\n",
    "Find the transpose of the complex matrix \n",
    "$ m = \\begin{bmatrix} 1 - i & 2 + 2i \\\\ 3 & 4 - i \\end{bmatrix} $."
   ]
  },
  {
   "cell_type": "code",
   "execution_count": 22,
   "id": "54f2b698",
   "metadata": {},
   "outputs": [
    {
     "name": "stdout",
     "output_type": "stream",
     "text": [
      "[[1.-1.j 3.+0.j]\n",
      " [2.+2.j 4.-1.j]]\n"
     ]
    }
   ],
   "source": [
    "m1 = np.array([[1 - 1j, 2 + 2j],[3 , 4 - 1j]])\n",
    "transpose = m1.T\n",
    "print(transpose)"
   ]
  },
  {
   "cell_type": "markdown",
   "id": "62866ba8",
   "metadata": {},
   "source": [
    "## Resultado\n",
    "\n",
    "$ transpose = \\begin{bmatrix} 1 - i & 3 \\\\ 2 + 2i & 4 - i \\end{bmatrix} $.\n",
    "\n",
    "### Exercise 12: Adjunct (Conjugate Transpose) of a Complex Matrix\n",
    "Calculate the adjunct (or conjugate transpose) of the complex matrix \n",
    "$ m = \\begin{bmatrix} 1 + 2i & 3 - i \\\\ 4 & 5 + i \\end{bmatrix} $."
   ]
  },
  {
   "cell_type": "code",
   "execution_count": 23,
   "id": "e64653dc",
   "metadata": {},
   "outputs": [
    {
     "name": "stdout",
     "output_type": "stream",
     "text": [
      "[[1.-2.j 4.-0.j]\n",
      " [3.+1.j 5.-1.j]]\n"
     ]
    }
   ],
   "source": [
    "m1 = np.array([[1 + 2j, 3 - 1j],[4 , 5 + 1j]]) \n",
    "adjunct = m1.T.conj()\n",
    "print(adjunct)"
   ]
  },
  {
   "cell_type": "markdown",
   "id": "5009fb40",
   "metadata": {},
   "source": [
    "## Resultado\n",
    "\n",
    "$ adjunct = \\begin{bmatrix} 1 - 2i & 4 \\\\ 3 + i & 5 - i \\end{bmatrix} $.\n",
    "\n",
    "### Exercise 13: Checking the Dimensions of a Matrix\n",
    "Determine the dimensions of the complex matrix \n",
    "$ m = \\begin{bmatrix} 1 - i & 2 \\\\ 3 + 2i & 4 - i \\end{bmatrix} $."
   ]
  },
  {
   "cell_type": "code",
   "execution_count": 24,
   "id": "5fa076c7",
   "metadata": {},
   "outputs": [
    {
     "name": "stdout",
     "output_type": "stream",
     "text": [
      "(2, 2)\n"
     ]
    }
   ],
   "source": [
    "m1 = np.array([[1 - 1j , 2],[3 + 2j, 4 - 1j]])\n",
    "m2 = m1.shape\n",
    "print(m2)"
   ]
  },
  {
   "cell_type": "markdown",
   "id": "cefa3e33",
   "metadata": {},
   "source": [
    "## Resultado\n",
    "\n",
    "$ Dimension = \\begin{bmatrix} 2 , 2 \\\\ \\end{bmatrix} $,\n",
    "\n",
    "## Multiplication of Matrices and Vectors\n",
    "\n",
    "### Exercise 14: Multiplying a Complex Square Matrix by a Complex Column Vector\n",
    "Multiply the complex square matrix \n",
    "$ m = \\begin{bmatrix} 1 + i & 2 - i \\\\ 3 & 4 + i \\end{bmatrix} $ \n",
    "by the complex column vector \n",
    "$ v = \\begin{bmatrix} 2 - i \\\\ 1 + 3i \\end{bmatrix} $."
   ]
  },
  {
   "cell_type": "code",
   "execution_count": 25,
   "id": "76df75c6",
   "metadata": {},
   "outputs": [
    {
     "name": "stdout",
     "output_type": "stream",
     "text": [
      "[[9. +8.j]\n",
      " [6.+14.j]]\n"
     ]
    }
   ],
   "source": [
    "m1 = np.array([[1+1j, 2-1j], \n",
    "               [3, 4 + 1j]])\n",
    "v1 = np.array([[2- 1j],[1+4j]])\n",
    "result = np.dot(m1, v1)\n",
    "print(result)"
   ]
  },
  {
   "cell_type": "markdown",
   "id": "b8a0b484",
   "metadata": {},
   "source": [
    "## Resultado\n",
    "\n",
    "$ Result = \\begin{bmatrix} 9 + 8i \\\\ 6 + 14i \\end{bmatrix} $."
   ]
  }
 ],
 "metadata": {
  "kernelspec": {
   "display_name": "Python 3 (ipykernel)",
   "language": "python",
   "name": "python3"
  },
  "language_info": {
   "codemirror_mode": {
    "name": "ipython",
    "version": 3
   },
   "file_extension": ".py",
   "mimetype": "text/x-python",
   "name": "python",
   "nbconvert_exporter": "python",
   "pygments_lexer": "ipython3",
   "version": "3.11.9"
  }
 },
 "nbformat": 4,
 "nbformat_minor": 5
}
